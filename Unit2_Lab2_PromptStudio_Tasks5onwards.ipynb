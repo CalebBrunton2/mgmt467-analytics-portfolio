{
  "cells": [
    {
      "cell_type": "markdown",
      "metadata": {
        "id": "view-in-github",
        "colab_type": "text"
      },
      "source": [
        "<a href=\"https://colab.research.google.com/github/CalebBrunton2/mgmt467-analytics-portfolio/blob/main/Unit2_Lab2_PromptStudio_Tasks5onwards.ipynb\" target=\"_parent\"><img src=\"https://colab.research.google.com/assets/colab-badge.svg\" alt=\"Open In Colab\"/></a>"
      ]
    },
    {
      "cell_type": "markdown",
      "id": "f3efb80b",
      "metadata": {
        "id": "f3efb80b"
      },
      "source": [
        "\n",
        "# 🤖 MGMT 467 - Unit 2 Lab 2: Prompt Studio — Feature Engineering & Beyond\n",
        "\n",
        "**Date:** 2025-10-16  \n",
        "This notebook continues from Task 5 onward, focusing on feature engineering and model iteration using AI-assisted prompt design.\n",
        "\n",
        "You'll continue to:\n",
        "- Generate SQL using prompt templates\n",
        "- Build and test new features\n",
        "- Retrain and evaluate your ML model\n",
        "- Reflect on the effect of engineered features\n"
      ]
    },
    {
      "cell_type": "markdown",
      "id": "866fc343",
      "metadata": {
        "id": "866fc343"
      },
      "source": [
        "\n",
        "## Task 5.0: Bucket a Continuous Feature\n",
        "\n",
        "**🎯 Goal:** Group 'total_minutes' into categories: low, medium, high.  \n",
        "**📌 Requirements:** Use CASE WHEN or IF statements to create 'watch_time_bucket'.\n",
        "\n",
        "---\n",
        "\n",
        "### 🧠 Prompt Template  \n",
        "> Write SQL that creates a new column watch_time_bucket based on total_minutes thresholds (<100, 100–300, >300).\n",
        "\n",
        "---\n",
        "\n",
        "### 👩‍🏫 Example Prompt  \n",
        "> Create a new column watch_time_bucket with values 'low', 'medium', or 'high' based on total_minutes.\n",
        "\n",
        "---\n",
        "\n",
        "### 🔍 Exploration  \n",
        "How does churn rate vary across these buckets?\n"
      ]
    },
    {
      "cell_type": "markdown",
      "source": [
        "Prompt to Gemini:\n",
        "Write a BigQuery SQL query that adds a new column called watch_time_bucket\n",
        "to categorize users based on total_minutes.\n",
        "Use thresholds:\n",
        "  - 'low' for total_minutes < 100,\n",
        "  - 'medium' for 100 ≤ total_minutes ≤ 300,\n",
        "  - 'high' for total_minutes > 300.\n",
        "Save the result as a new table churn_features_bucketed in my project.\n"
      ],
      "metadata": {
        "id": "fauNgf3bUdbd"
      },
      "id": "fauNgf3bUdbd"
    },
    {
      "cell_type": "code",
      "source": [
        "%%bigquery --project original-wonder-471819-n2\n",
        "CREATE OR REPLACE TABLE `original-wonder-471819-n2.netflix.churn_features_bucketed` AS\n",
        "SELECT\n",
        "  *,\n",
        "  CASE\n",
        "    WHEN total_minutes < 100 THEN 'low'\n",
        "    WHEN total_minutes BETWEEN 100 AND 300 THEN 'medium'\n",
        "    ELSE 'high'\n",
        "  END AS watch_time_bucket\n",
        "FROM `original-wonder-471819-n2.netflix.churn_features_clean`;\n"
      ],
      "metadata": {
        "id": "oCyGMlyCUdsQ"
      },
      "id": "oCyGMlyCUdsQ",
      "execution_count": null,
      "outputs": []
    },
    {
      "cell_type": "code",
      "source": [
        "%%bigquery --project original-wonder-471819-n2\n",
        "SELECT\n",
        "  watch_time_bucket,\n",
        "  COUNT(*) AS users,\n",
        "  AVG(CAST(churn_label AS FLOAT64)) AS churn_rate\n",
        "FROM `original-wonder-471819-n2.netflix.churn_features_bucketed`\n",
        "GROUP BY watch_time_bucket\n",
        "ORDER BY churn_rate DESC;\n"
      ],
      "metadata": {
        "id": "DNvT--ggUfCL"
      },
      "id": "DNvT--ggUfCL",
      "execution_count": null,
      "outputs": []
    },
    {
      "cell_type": "markdown",
      "id": "c7295de2",
      "metadata": {
        "id": "c7295de2"
      },
      "source": [
        "\n",
        "## Task 5.1: Create a Binary Flag Feature\n",
        "\n",
        "**🎯 Goal:** Add a binary column flag_binge (1 if total_minutes > 500).  \n",
        "**📌 Requirements:** Use IF logic to create a binary column in SQL.\n",
        "\n",
        "---\n",
        "\n",
        "### 🧠 Prompt Template  \n",
        "> Write a SQL query that adds flag_binge = 1 if total_minutes > 500, else 0.\n",
        "\n",
        "---\n",
        "\n",
        "### 👩‍🏫 Example Prompt  \n",
        "> Add a binary column flag_binge to identify binge-watchers.\n",
        "\n",
        "---\n",
        "\n",
        "### 🔍 Exploration  \n",
        "Are binge-watchers more or less likely to churn?\n"
      ]
    },
    {
      "cell_type": "markdown",
      "id": "d97be921",
      "metadata": {
        "id": "d97be921"
      },
      "source": [
        "\n",
        "## Task 5.2: Create an Interaction Term\n",
        "\n",
        "**🎯 Goal:** Create plan_region_combo by combining plan_tier and region.  \n",
        "**📌 Requirements:** Use CONCAT or STRING functions.\n",
        "\n",
        "---\n",
        "\n",
        "### 🧠 Prompt Template  \n",
        "> Generate SQL to create a new column by combining plan_tier and region with an underscore.\n",
        "\n",
        "---\n",
        "\n",
        "### 👩‍🏫 Example Prompt  \n",
        "> Create a column called plan_region_combo as CONCAT(plan_tier, '_', region).\n",
        "\n",
        "---\n",
        "\n",
        "### 🔍 Exploration  \n",
        "Which plan-region combos have highest churn?\n"
      ]
    },
    {
      "cell_type": "markdown",
      "source": [
        "Prompt to Gemini:\n",
        "Write a BigQuery SQL query that creates a binary column named flag_binge\n",
        "to identify users who have total_minutes > 500.\n",
        "If total_minutes > 500, flag_binge = 1; otherwise, 0.\n",
        "Save the results as a new table called churn_features_binge in my project.\n"
      ],
      "metadata": {
        "id": "ovkVvzKbUln4"
      },
      "id": "ovkVvzKbUln4"
    },
    {
      "cell_type": "code",
      "source": [
        "%%bigquery --project original-wonder-471819-n2\n",
        "CREATE OR REPLACE TABLE `original-wonder-471819-n2.netflix.churn_features_binge` AS\n",
        "SELECT\n",
        "  *,\n",
        "  IF(total_minutes > 500, 1, 0) AS flag_binge\n",
        "FROM `original-wonder-471819-n2.netflix.churn_features_bucketed`;\n"
      ],
      "metadata": {
        "id": "-WdSzN4wUnDm"
      },
      "id": "-WdSzN4wUnDm",
      "execution_count": null,
      "outputs": []
    },
    {
      "cell_type": "code",
      "source": [
        "%%bigquery --project original-wonder-471819-n2\n",
        "SELECT\n",
        "  flag_binge,\n",
        "  COUNT(*) AS users,\n",
        "  AVG(CAST(churn_label AS FLOAT64)) AS churn_rate\n",
        "FROM `original-wonder-471819-n2.netflix.churn_features_binge`\n",
        "GROUP BY flag_binge\n",
        "ORDER BY flag_binge DESC;\n"
      ],
      "metadata": {
        "id": "l_pGciBlUocl"
      },
      "id": "l_pGciBlUocl",
      "execution_count": null,
      "outputs": []
    },
    {
      "cell_type": "markdown",
      "id": "0aa1e6cf",
      "metadata": {
        "id": "0aa1e6cf"
      },
      "source": [
        "\n",
        "## Task 5.3: Add Missingness Indicator Flags\n",
        "\n",
        "**🎯 Goal:** Add binary flags to capture NULL values in age_band and avg_rating.  \n",
        "**📌 Requirements:** Use IS NULL logic to create new flag columns.\n",
        "\n",
        "---\n",
        "\n",
        "### 🧠 Prompt Template  \n",
        "> Create a new column is_missing_[col_name] that is 1 when column is NULL, else 0.\n",
        "\n",
        "---\n",
        "\n",
        "### 👩‍🏫 Example Prompt  \n",
        "> Add is_missing_age that flags rows where age_band IS NULL.\n",
        "\n",
        "---\n",
        "\n",
        "### 🔍 Exploration  \n",
        "Do missing values correlate with churn?\n"
      ]
    },
    {
      "cell_type": "markdown",
      "source": [
        "Prompt to Gemini:\n",
        "Write a BigQuery SQL query that adds binary columns is_missing_age and is_missing_rating\n",
        "to flag missing values. Each column should equal 1 when the corresponding value is NULL, else 0.\n",
        "Save the new table as churn_features_missing in my project.\n"
      ],
      "metadata": {
        "id": "Kyr6rmrvUrg6"
      },
      "id": "Kyr6rmrvUrg6"
    },
    {
      "cell_type": "code",
      "source": [
        "%%bigquery --project original-wonder-471819-n2\n",
        "CREATE OR REPLACE TABLE `original-wonder-471819-n2.netflix.churn_features_missing` AS\n",
        "SELECT\n",
        "  *,\n",
        "  IF(age_band IS NULL, 1, 0) AS is_missing_age,\n",
        "  -- keep this as a placeholder, even though avg_rating doesn’t exist yet\n",
        "  IF(NULL IS NULL, 0, 0) AS is_missing_rating\n",
        "FROM `original-wonder-471819-n2.netflix.churn_features_binge`;\n"
      ],
      "metadata": {
        "id": "rJONM8pqUtBj"
      },
      "id": "rJONM8pqUtBj",
      "execution_count": null,
      "outputs": []
    },
    {
      "cell_type": "code",
      "source": [
        "%%bigquery --project original-wonder-471819-n2\n",
        "SELECT\n",
        "  is_missing_age,\n",
        "  COUNT(*) AS users,\n",
        "  AVG(CAST(churn_label AS FLOAT64)) AS churn_rate\n",
        "FROM `original-wonder-471819-n2.netflix.churn_features_missing`\n",
        "GROUP BY is_missing_age\n",
        "ORDER BY is_missing_age DESC;\n"
      ],
      "metadata": {
        "id": "195nExlFUvhq"
      },
      "id": "195nExlFUvhq",
      "execution_count": null,
      "outputs": []
    },
    {
      "cell_type": "markdown",
      "id": "525c91b3",
      "metadata": {
        "id": "525c91b3"
      },
      "source": [
        "\n",
        "## Task 5.4: Create Time-Based Features (Optional)\n",
        "\n",
        "**🎯 Goal:** Add a column days_since_last_login.  \n",
        "**📌 Requirements:** Use DATE_DIFF with CURRENT_DATE and last_login_date.\n",
        "\n",
        "---\n",
        "\n",
        "### 🧠 Prompt Template  \n",
        "> Write SQL to create a column showing days since last login using DATE_DIFF.\n",
        "\n",
        "---\n",
        "\n",
        "### 👩‍🏫 Example Prompt  \n",
        "> Add a column days_since_last_login = DATE_DIFF(CURRENT_DATE(), last_login_date, DAY).\n",
        "\n",
        "---\n",
        "\n",
        "### 🔍 Exploration  \n",
        "Does login recency affect churn rate?\n"
      ]
    },
    {
      "cell_type": "markdown",
      "source": [
        "Prompt to Gemini:\n",
        "Write a BigQuery SQL query that adds a new column called days_since_last_login\n",
        "to my churn_features_missing table. Use DATE_DIFF(CURRENT_DATE(), last_login_date, DAY)\n",
        "to calculate the number of days since the user last logged in.\n",
        "Save the result as churn_features_time in my project.\n"
      ],
      "metadata": {
        "id": "FhSOcNNMUyor"
      },
      "id": "FhSOcNNMUyor"
    },
    {
      "cell_type": "code",
      "source": [
        "%%bigquery --project original-wonder-471819-n2\n",
        "CREATE OR REPLACE TABLE `original-wonder-471819-n2.netflix.churn_features_time` AS\n",
        "SELECT\n",
        "  *,\n",
        "  DATE_DIFF(CURRENT_DATE(), last_login_date, DAY) AS days_since_last_login\n",
        "FROM `original-wonder-471819-n2.netflix.churn_features_missing`;\n"
      ],
      "metadata": {
        "id": "bCChw955UzoI"
      },
      "id": "bCChw955UzoI",
      "execution_count": null,
      "outputs": []
    },
    {
      "cell_type": "code",
      "source": [
        "%%bigquery --project original-wonder-471819-n2\n",
        "SELECT\n",
        "  ROUND(AVG(days_since_last_login), 1) AS avg_days_since_login,\n",
        "  AVG(CAST(churn_label AS FLOAT64)) AS churn_rate\n",
        "FROM `original-wonder-471819-n2.netflix.churn_features_time`\n",
        "GROUP BY\n",
        "  CASE\n",
        "    WHEN days_since_last_login < 30 THEN 'Active (<30 days)'\n",
        "    WHEN days_since_last_login BETWEEN 30 AND 180 THEN 'Inactive (1–6 months)'\n",
        "    ELSE 'Dormant (>6 months)'\n",
        "  END\n",
        "ORDER BY avg_days_since_login;\n"
      ],
      "metadata": {
        "id": "IccedveSU0pM"
      },
      "id": "IccedveSU0pM",
      "execution_count": null,
      "outputs": []
    },
    {
      "cell_type": "markdown",
      "id": "56077fb0",
      "metadata": {
        "id": "56077fb0"
      },
      "source": [
        "\n",
        "## Task 5.5: Assemble Enhanced Feature Table\n",
        "\n",
        "**🎯 Goal:** Create churn_features_enhanced with all engineered columns.  \n",
        "**📌 Requirements:** Include all prior features + engineered columns.\n",
        "\n",
        "---\n",
        "\n",
        "### 🧠 Prompt Template  \n",
        "> Generate SQL to create churn_features_enhanced with new columns: watch_time_bucket, plan_region_combo, flag_binge, etc.\n",
        "\n",
        "---\n",
        "\n",
        "### 👩‍🏫 Example Prompt  \n",
        "> Build a new table churn_features_enhanced with all original features + engineered ones.\n",
        "\n",
        "---\n",
        "\n",
        "### 🔍 Exploration  \n",
        "Are row counts stable? Any NULLs introduced?\n"
      ]
    },
    {
      "cell_type": "markdown",
      "source": [
        "Prompt to Gemini:\n",
        "Generate a BigQuery SQL statement that creates a new table named\n",
        "churn_features_enhanced including all original features plus engineered columns:\n",
        "watch_time_bucket, plan_region_combo, flag_binge, is_missing_age, is_missing_rating,\n",
        "last_login_date, and days_since_last_login.\n",
        "Source: original-wonder-471819-n2.netflix.churn_features_time\n"
      ],
      "metadata": {
        "id": "_FR57uLbViz1"
      },
      "id": "_FR57uLbViz1"
    },
    {
      "cell_type": "code",
      "source": [
        "%%bigquery --project original-wonder-471819-n2\n",
        "CREATE OR REPLACE TABLE `original-wonder-471819-n2.netflix.churn_features_enhanced` AS\n",
        "SELECT\n",
        "  -- core features\n",
        "  user_id,\n",
        "  region,\n",
        "  plan_tier,\n",
        "  age_band,\n",
        "  total_minutes,\n",
        "  CAST(churn_label AS BOOL) AS churn_label,\n",
        "\n",
        "  -- engineered features from earlier steps\n",
        "  watch_time_bucket,                               -- from Task 5.0\n",
        "  IF(total_minutes > 500, 1, 0) AS flag_binge,     -- from Task 5.1 (recomputed defensively)\n",
        "\n",
        "  -- composite/interaction feature (Task 5.2)\n",
        "  CONCAT(\n",
        "    COALESCE(CAST(plan_tier AS STRING), 'unknown'),\n",
        "    '_',\n",
        "    COALESCE(CAST(region AS STRING), 'unknown')\n",
        "  ) AS plan_region_combo,\n",
        "\n",
        "  -- missingness indicators (Task 5.3)\n",
        "  IF(age_band IS NULL, 1, 0) AS is_missing_age,\n",
        "  -- rating not in schema; keep a placeholder flag for schema stability\n",
        "  0 AS is_missing_rating,\n",
        "\n",
        "  -- time features (Task 5.4)\n",
        "  last_login_date,\n",
        "  days_since_last_login\n",
        "FROM `original-wonder-471819-n2.netflix.churn_features_time`;\n"
      ],
      "metadata": {
        "id": "cV1ZKPiOVjp_"
      },
      "id": "cV1ZKPiOVjp_",
      "execution_count": null,
      "outputs": []
    },
    {
      "cell_type": "code",
      "source": [
        "%%bigquery --project original-wonder-471819-n2\n",
        "SELECT\n",
        "  (SELECT COUNT(*) FROM `original-wonder-471819-n2.netflix.churn_features_time`)  AS src_rows,\n",
        "  (SELECT COUNT(*) FROM `original-wonder-471819-n2.netflix.churn_features_enhanced`) AS enhanced_rows;\n"
      ],
      "metadata": {
        "id": "bg1OtTFfVlrR"
      },
      "id": "bg1OtTFfVlrR",
      "execution_count": null,
      "outputs": []
    },
    {
      "cell_type": "code",
      "source": [
        "%%bigquery --project original-wonder-471819-n2\n",
        "SELECT\n",
        "  COUNTIF(watch_time_bucket IS NULL) AS null_watch_time_bucket,\n",
        "  COUNTIF(plan_region_combo IS NULL) AS null_plan_region_combo,\n",
        "  COUNTIF(flag_binge IS NULL)        AS null_flag_binge,\n",
        "  COUNTIF(is_missing_age IS NULL)    AS null_is_missing_age,\n",
        "  COUNTIF(is_missing_rating IS NULL) AS null_is_missing_rating,\n",
        "  COUNTIF(days_since_last_login IS NULL) AS null_days_since_last_login\n",
        "FROM `original-wonder-471819-n2.netflix.churn_features_enhanced`;\n"
      ],
      "metadata": {
        "id": "ghDcj_onVmuT"
      },
      "id": "ghDcj_onVmuT",
      "execution_count": null,
      "outputs": []
    },
    {
      "cell_type": "code",
      "source": [
        "%%bigquery --project original-wonder-471819-n2\n",
        "SELECT *\n",
        "FROM `original-wonder-471819-n2.netflix.churn_features_enhanced`\n",
        "LIMIT 10;\n"
      ],
      "metadata": {
        "id": "2aVDApHTVnsk"
      },
      "id": "2aVDApHTVnsk",
      "execution_count": null,
      "outputs": []
    },
    {
      "cell_type": "markdown",
      "id": "4145e26e",
      "metadata": {
        "id": "4145e26e"
      },
      "source": [
        "\n",
        "## Task 6: Retrain Model on Engineered Features\n",
        "\n",
        "**🎯 Goal:** Train a logistic regression model using churn_features_enhanced.  \n",
        "**📌 Requirements:** Use BQML logistic_reg model with new feature columns.\n",
        "\n",
        "---\n",
        "\n",
        "### 🧠 Prompt Template  \n",
        "> Write CREATE MODEL SQL using enhanced features including flags and buckets.\n",
        "\n",
        "---\n",
        "\n",
        "### 👩‍🏫 Example Prompt  \n",
        "> Retrain churn_model_enhanced using watch_time_bucket, flag_binge, plan_region_combo.\n",
        "\n",
        "---\n",
        "\n",
        "### 🔍 Exploration  \n",
        "Does model accuracy improve?\n"
      ]
    },
    {
      "cell_type": "markdown",
      "source": [
        "Prompt to Gemini:\n",
        "Write a BigQuery CREATE MODEL statement for a logistic regression that predicts churn_label\n",
        "using the enhanced feature table original-wonder-471819-n2.netflix.churn_features_enhanced.\n",
        "Include categorical columns (strings) directly so BQML encodes them automatically.\n",
        "Set input_label_cols to churn_label. Name the model churn_model_enhanced.\n"
      ],
      "metadata": {
        "id": "7GqWBrGkWKsi"
      },
      "id": "7GqWBrGkWKsi"
    },
    {
      "cell_type": "code",
      "source": [
        "%%bigquery --project original-wonder-471819-n2\n",
        "CREATE OR REPLACE MODEL `original-wonder-471819-n2.netflix.churn_model_enhanced`\n",
        "OPTIONS(\n",
        "  model_type = 'logistic_reg',\n",
        "  input_label_cols = ['churn_label']\n",
        ") AS\n",
        "SELECT\n",
        "  -- label\n",
        "  CAST(churn_label AS BOOL) AS churn_label,\n",
        "\n",
        "  -- numeric features\n",
        "  total_minutes,\n",
        "  flag_binge,\n",
        "  is_missing_age,\n",
        "  is_missing_rating,\n",
        "  days_since_last_login,\n",
        "\n",
        "  -- categorical features (BQML will one-hot encode strings)\n",
        "  region,\n",
        "  plan_tier,\n",
        "  age_band,\n",
        "  watch_time_bucket,\n",
        "  plan_region_combo\n",
        "FROM `original-wonder-471819-n2.netflix.churn_features_enhanced`;\n"
      ],
      "metadata": {
        "id": "JynR6nU9WK1U"
      },
      "id": "JynR6nU9WK1U",
      "execution_count": null,
      "outputs": []
    },
    {
      "cell_type": "code",
      "source": [
        "%%bigquery --project original-wonder-471819-n2\n",
        "SELECT *\n",
        "FROM ML.TRAINING_INFO(MODEL `original-wonder-471819-n2.netflix.churn_model_enhanced`);\n"
      ],
      "metadata": {
        "id": "6MethYOEWMkv"
      },
      "id": "6MethYOEWMkv",
      "execution_count": null,
      "outputs": []
    },
    {
      "cell_type": "code",
      "source": [
        "%%bigquery --project original-wonder-471819-n2\n",
        "SELECT *\n",
        "FROM ML.EVALUATE(MODEL `original-wonder-471819-n2.netflix.churn_model_enhanced`);\n"
      ],
      "metadata": {
        "id": "1XVOfIkiWM2n"
      },
      "id": "1XVOfIkiWM2n",
      "execution_count": null,
      "outputs": []
    },
    {
      "cell_type": "code",
      "source": [
        "%%bigquery --project original-wonder-471819-n2\n",
        "WITH base AS (\n",
        "  SELECT 'baseline' AS model, *\n",
        "  FROM ML.EVALUATE(MODEL `original-wonder-471819-n2.netflix.churn_model_basic`)\n",
        "),\n",
        "enh AS (\n",
        "  SELECT 'enhanced' AS model, *\n",
        "  FROM ML.EVALUATE(MODEL `original-wonder-471819-n2.netflix.churn_model_enhanced`)\n",
        ")\n",
        "SELECT\n",
        "  model, accuracy, precision, recall, f1_score, roc_auc, log_loss\n",
        "FROM base\n",
        "UNION ALL\n",
        "SELECT\n",
        "  model, accuracy, precision, recall, f1_score, roc_auc, log_loss\n",
        "FROM enh\n",
        "ORDER BY model;\n"
      ],
      "metadata": {
        "id": "E1kuhAJlWOA6"
      },
      "id": "E1kuhAJlWOA6",
      "execution_count": null,
      "outputs": []
    },
    {
      "cell_type": "markdown",
      "id": "f3b11e31",
      "metadata": {
        "id": "f3b11e31"
      },
      "source": [
        "\n",
        "## Task 7: Compare Model Performance\n",
        "\n",
        "**🎯 Goal:** Compare base model vs enhanced model using ML.EVALUATE.  \n",
        "**📌 Requirements:** Use same evaluation query for both models.\n",
        "\n",
        "---\n",
        "\n",
        "### 🧠 Prompt Template  \n",
        "> Write a SQL query to evaluate churn_model_enhanced and compare with churn_model.\n",
        "\n",
        "---\n",
        "\n",
        "### 👩‍🏫 Example Prompt  \n",
        "> Compare ML.EVALUATE output from both models side-by-side.\n",
        "\n",
        "---\n",
        "\n",
        "### 🔍 Exploration  \n",
        "Which features made the most difference?\n"
      ]
    },
    {
      "cell_type": "markdown",
      "source": [
        "Prompt to Gemini:\n",
        "Write BigQuery SQL to evaluate two models (churn_model_basic and churn_model_enhanced)\n",
        "using ML.EVALUATE and show their metrics side-by-side. Then add a second query that\n",
        "computes metric deltas (enhanced - baseline). Finally, list the top absolute weights\n",
        "from churn_model_enhanced to see which features mattered most.\n"
      ],
      "metadata": {
        "id": "hAABqp4lWyp1"
      },
      "id": "hAABqp4lWyp1"
    },
    {
      "cell_type": "code",
      "source": [
        "%%bigquery --project original-wonder-471819-n2\n",
        "WITH w AS (\n",
        "  SELECT\n",
        "    feature,\n",
        "    -- Extract the base feature name before '=something' if present\n",
        "    COALESCE(REGEXP_EXTRACT(feature, r'^([^=]+)'), feature) AS base_feature,\n",
        "    weight\n",
        "  FROM ML.WEIGHTS(MODEL `original-wonder-471819-n2.netflix.churn_model_enhanced`)\n",
        "  WHERE feature NOT IN ('bias')\n",
        ")\n",
        "SELECT\n",
        "  base_feature,\n",
        "  COUNT(*)                         AS n_terms,\n",
        "  AVG(ABS(weight))                 AS avg_abs_weight,\n",
        "  MAX(ABS(weight))                 AS max_abs_weight\n",
        "FROM w\n",
        "GROUP BY base_feature\n",
        "ORDER BY avg_abs_weight DESC\n",
        "LIMIT 15;\n"
      ],
      "metadata": {
        "id": "Uw1QNpl3W5wS"
      },
      "id": "Uw1QNpl3W5wS",
      "execution_count": null,
      "outputs": []
    },
    {
      "cell_type": "code",
      "source": [
        "%%bigquery --project original-wonder-471819-n2\n",
        "WITH base AS (\n",
        "  SELECT 'baseline' AS model, *\n",
        "  FROM ML.EVALUATE(MODEL `original-wonder-471819-n2.netflix.churn_model_basic`)\n",
        "),\n",
        "enh AS (\n",
        "  SELECT 'enhanced' AS model, *\n",
        "  FROM ML.EVALUATE(MODEL `original-wonder-471819-n2.netflix.churn_model_enhanced`)\n",
        ")\n",
        "SELECT\n",
        "  model,\n",
        "  accuracy, precision, recall, f1_score, roc_auc, log_loss\n",
        "FROM base\n",
        "UNION ALL\n",
        "SELECT\n",
        "  model,\n",
        "  accuracy, precision, recall, f1_score, roc_auc, log_loss\n",
        "FROM enh\n",
        "ORDER BY model;\n"
      ],
      "metadata": {
        "id": "7a0WW8iRWzjp"
      },
      "id": "7a0WW8iRWzjp",
      "execution_count": null,
      "outputs": []
    },
    {
      "cell_type": "code",
      "source": [
        "%%bigquery --project original-wonder-471819-n2\n",
        "WITH base AS (\n",
        "  SELECT * FROM ML.EVALUATE(MODEL `original-wonder-471819-n2.netflix.churn_model_basic`)\n",
        "),\n",
        "enh AS (\n",
        "  SELECT * FROM ML.EVALUATE(MODEL `original-wonder-471819-n2.netflix.churn_model_enhanced`)\n",
        ")\n",
        "SELECT\n",
        "  (enh.accuracy - base.accuracy)   AS d_accuracy,\n",
        "  (enh.precision - base.precision) AS d_precision,\n",
        "  (enh.recall   - base.recall)     AS d_recall,\n",
        "  (enh.f1_score - base.f1_score)   AS d_f1,\n",
        "  (enh.roc_auc  - base.roc_auc)    AS d_roc_auc,\n",
        "  (enh.log_loss - base.log_loss)   AS d_log_loss\n",
        "FROM base, enh;\n"
      ],
      "metadata": {
        "id": "k6phToqOW0hh"
      },
      "id": "k6phToqOW0hh",
      "execution_count": null,
      "outputs": []
    },
    {
      "cell_type": "code",
      "source": [
        "%%bigquery --project original-wonder-471819-n2\n",
        "SELECT\n",
        "  feature,\n",
        "  category,\n",
        "  weight\n",
        "FROM ML.WEIGHTS(MODEL `original-wonder-471819-n2.netflix.churn_model_enhanced`)\n",
        "WHERE feature NOT IN ('bias')\n",
        "ORDER BY ABS(weight) DESC\n",
        "LIMIT 25;\n"
      ],
      "metadata": {
        "id": "_hmBm2-SW4me"
      },
      "id": "_hmBm2-SW4me",
      "execution_count": null,
      "outputs": []
    },
    {
      "cell_type": "markdown",
      "source": [
        "\n",
        "🎯 Feature impact:\n",
        "Top absolute weights suggest the most influential terms (e.g., watch_time_bucket, plan_region_combo,\n",
        "days_since_last_login, flag_binge). Categorical expansions (region, plan_tier, age_band) appear as\n",
        "one-hot terms like region=West or plan_tier=Premium.\n",
        "\n",
        "📌 Takeaway:\n",
        "If recall improved with acceptable precision, the engineered features helped catch more true churners.\n",
        "If precision improved, targeting can be tighter with fewer false alarms. Tune threshold next based on\n",
        "the business cost of false positives vs. false negatives.\n"
      ],
      "metadata": {
        "id": "3-yHAiyJW7gG"
      },
      "id": "3-yHAiyJW7gG"
    }
  ],
  "metadata": {
    "colab": {
      "provenance": [],
      "include_colab_link": true
    }
  },
  "nbformat": 4,
  "nbformat_minor": 5
}